{
 "cells": [
  {
   "cell_type": "markdown",
   "id": "a9f632ef",
   "metadata": {},
   "source": [
    "# Imports"
   ]
  },
  {
   "cell_type": "code",
   "execution_count": 72,
   "id": "601a9ede",
   "metadata": {},
   "outputs": [
    {
     "data": {
      "text/html": [
       "\n",
       "            <div>\n",
       "                <p><b>SparkSession - in-memory</b></p>\n",
       "                \n",
       "        <div>\n",
       "            <p><b>SparkContext</b></p>\n",
       "\n",
       "            <p><a href=\"http://ea0ad3951a89:4040\">Spark UI</a></p>\n",
       "\n",
       "            <dl>\n",
       "              <dt>Version</dt>\n",
       "                <dd><code>v3.2.0</code></dd>\n",
       "              <dt>Master</dt>\n",
       "                <dd><code>local[*]</code></dd>\n",
       "              <dt>AppName</dt>\n",
       "                <dd><code>pyspark-shell</code></dd>\n",
       "            </dl>\n",
       "        </div>\n",
       "        \n",
       "            </div>\n",
       "        "
      ],
      "text/plain": [
       "<pyspark.sql.session.SparkSession at 0x7f98fd87fc70>"
      ]
     },
     "execution_count": 72,
     "metadata": {},
     "output_type": "execute_result"
    }
   ],
   "source": [
    "from pyspark.sql import SparkSession\n",
    "import pandas as ps\n",
    "from pyspark.sql import functions as F\n",
    " # mean, col, split, col, regexp_extract, when, lit\n",
    "\n",
    "from pyspark.ml import Pipeline\n",
    "from pyspark.ml.feature import StringIndexer\n",
    "from pyspark.ml.feature import VectorAssembler\n",
    "from pyspark.ml.feature import OneHotEncoder\n",
    "from pyspark.ml.evaluation import MulticlassClassificationEvaluator\n",
    "from pyspark.ml.classification import LogisticRegression\n",
    "from pyspark.sql.types import FloatType\n",
    "from pyspark.mllib.evaluation import MulticlassMetrics\n",
    "from pyspark.ml.classification import DecisionTreeClassifier\n",
    "from pyspark.ml.classification import NaiveBayes\n",
    "from pyspark.ml.classification import GBTClassifier\n",
    "from pyspark.ml.classification import LinearSVC\n",
    "\n",
    "from matplotlib import pyplot as plt\n",
    "import warnings\n",
    "warnings.filterwarnings('ignore')\n",
    "\n",
    "from pyspark import SparkContext\n",
    "from pyspark.sql import SparkSession\n",
    "spark = SparkSession.builder.getOrCreate()\n",
    "spark"
   ]
  },
  {
   "cell_type": "markdown",
   "id": "fc361e60",
   "metadata": {},
   "source": [
    "# Lecture\n",
    "### affichage"
   ]
  },
  {
   "cell_type": "code",
   "execution_count": 27,
   "id": "3979c494",
   "metadata": {},
   "outputs": [
    {
     "name": "stdout",
     "output_type": "stream",
     "text": [
      "+---+----------------+------+------------+---------------+------------------+-----------------+-------------+------------------+------+------------+------------+--------------+--------------+------+\n",
      "|age|       workclass|fnlwgt|   education|educational-num|    marital-status|       occupation| relationship|              race|gender|capital-gain|capital-loss|hours-per-week|native-country|income|\n",
      "+---+----------------+------+------------+---------------+------------------+-----------------+-------------+------------------+------+------------+------------+--------------+--------------+------+\n",
      "| 25|         Private|226802|        11th|              7|     Never-married|Machine-op-inspct|    Own-child|             Black|  Male|           0|           0|            40| United-States| <=50K|\n",
      "| 38|         Private| 89814|     HS-grad|              9|Married-civ-spouse|  Farming-fishing|      Husband|             White|  Male|           0|           0|            50| United-States| <=50K|\n",
      "| 28|       Local-gov|336951|  Assoc-acdm|             12|Married-civ-spouse|  Protective-serv|      Husband|             White|  Male|           0|           0|            40| United-States|  >50K|\n",
      "| 44|         Private|160323|Some-college|             10|Married-civ-spouse|Machine-op-inspct|      Husband|             Black|  Male|        7688|           0|            40| United-States|  >50K|\n",
      "| 18|               ?|103497|Some-college|             10|     Never-married|                ?|    Own-child|             White|Female|           0|           0|            30| United-States| <=50K|\n",
      "| 34|         Private|198693|        10th|              6|     Never-married|    Other-service|Not-in-family|             White|  Male|           0|           0|            30| United-States| <=50K|\n",
      "| 29|               ?|227026|     HS-grad|              9|     Never-married|                ?|    Unmarried|             Black|  Male|           0|           0|            40| United-States| <=50K|\n",
      "| 63|Self-emp-not-inc|104626| Prof-school|             15|Married-civ-spouse|   Prof-specialty|      Husband|             White|  Male|        3103|           0|            32| United-States|  >50K|\n",
      "| 24|         Private|369667|Some-college|             10|     Never-married|    Other-service|    Unmarried|             White|Female|           0|           0|            40| United-States| <=50K|\n",
      "| 55|         Private|104996|     7th-8th|              4|Married-civ-spouse|     Craft-repair|      Husband|             White|  Male|           0|           0|            10| United-States| <=50K|\n",
      "| 65|         Private|184454|     HS-grad|              9|Married-civ-spouse|Machine-op-inspct|      Husband|             White|  Male|        6418|           0|            40| United-States|  >50K|\n",
      "| 36|     Federal-gov|212465|   Bachelors|             13|Married-civ-spouse|     Adm-clerical|      Husband|             White|  Male|           0|           0|            40| United-States| <=50K|\n",
      "| 26|         Private| 82091|     HS-grad|              9|     Never-married|     Adm-clerical|Not-in-family|             White|Female|           0|           0|            39| United-States| <=50K|\n",
      "| 58|               ?|299831|     HS-grad|              9|Married-civ-spouse|                ?|      Husband|             White|  Male|           0|           0|            35| United-States| <=50K|\n",
      "| 48|         Private|279724|     HS-grad|              9|Married-civ-spouse|Machine-op-inspct|      Husband|             White|  Male|        3103|           0|            48| United-States|  >50K|\n",
      "| 43|         Private|346189|     Masters|             14|Married-civ-spouse|  Exec-managerial|      Husband|             White|  Male|           0|           0|            50| United-States|  >50K|\n",
      "| 20|       State-gov|444554|Some-college|             10|     Never-married|    Other-service|    Own-child|             White|  Male|           0|           0|            25| United-States| <=50K|\n",
      "| 43|         Private|128354|     HS-grad|              9|Married-civ-spouse|     Adm-clerical|         Wife|             White|Female|           0|           0|            30| United-States| <=50K|\n",
      "| 37|         Private| 60548|     HS-grad|              9|           Widowed|Machine-op-inspct|    Unmarried|             White|Female|           0|           0|            20| United-States| <=50K|\n",
      "| 40|         Private| 85019|   Doctorate|             16|Married-civ-spouse|   Prof-specialty|      Husband|Asian-Pac-Islander|  Male|           0|           0|            45|             ?|  >50K|\n",
      "+---+----------------+------+------------+---------------+------------------+-----------------+-------------+------------------+------+------------+------------+--------------+--------------+------+\n",
      "only showing top 20 rows\n",
      "\n"
     ]
    },
    {
     "name": "stderr",
     "output_type": "stream",
     "text": [
      "22/10/06 09:45:40 WARN CacheManager: Asked to cache already cached data.\n"
     ]
    }
   ],
   "source": [
    "#CSV entier non nettoyé\n",
    "income_adult = \"./adult.csv\"\n",
    "df = ps.read_csv(income_adult)\n",
    "df.head()\n",
    "\n",
    "sdf = spark.read.csv(income_adult, header=True, inferSchema=True).cache()\n",
    "#affichage du dataset\n",
    "sdf.show()"
   ]
  },
  {
   "cell_type": "markdown",
   "id": "f100bdb2",
   "metadata": {},
   "source": [
    "### nombre (lignes & colonnes)"
   ]
  },
  {
   "cell_type": "code",
   "execution_count": 28,
   "id": "c2871794",
   "metadata": {},
   "outputs": [
    {
     "name": "stdout",
     "output_type": "stream",
     "text": [
      "48842\n"
     ]
    },
    {
     "data": {
      "text/plain": [
       "15"
      ]
     },
     "execution_count": 28,
     "metadata": {},
     "output_type": "execute_result"
    }
   ],
   "source": [
    "\n",
    "sdf.is_cached\n",
    "print(sdf.count())\n",
    "len(df.columns)"
   ]
  },
  {
   "cell_type": "markdown",
   "id": "5d61808f",
   "metadata": {},
   "source": [
    "### description"
   ]
  },
  {
   "cell_type": "code",
   "execution_count": 29,
   "id": "2b0fd940",
   "metadata": {},
   "outputs": [
    {
     "name": "stderr",
     "output_type": "stream",
     "text": [
      "                                                                                \r"
     ]
    },
    {
     "name": "stdout",
     "output_type": "stream",
     "text": [
      "+-------+------------------+------------------+------------------+------------------+------------------+------------------+\n",
      "|summary|               age|            fnlwgt|   educational-num|      capital-gain|      capital-loss|    hours-per-week|\n",
      "+-------+------------------+------------------+------------------+------------------+------------------+------------------+\n",
      "|  count|             48842|             48842|             48842|             48842|             48842|             48842|\n",
      "|   mean| 38.64358543876172|189664.13459727284|10.078088530363212|1079.0676262233324| 87.50231358257237|40.422382375824085|\n",
      "| stddev|13.710509934443518|105604.02542315758| 2.570972755592256| 7452.019057655418|403.00455212435924|12.391444024252296|\n",
      "|    min|                17|             12285|                 1|                 0|                 0|                 1|\n",
      "|    max|                90|           1490400|                16|             99999|              4356|                99|\n",
      "+-------+------------------+------------------+------------------+------------------+------------------+------------------+\n",
      "\n"
     ]
    }
   ],
   "source": [
    "sdf.describe().toPandas()  # # par défaut ttes les col \n",
    "sdf.dtypes\n",
    "sdf.select([col[0] for col in sdf.dtypes if col[1] != 'string']).describe().show()"
   ]
  },
  {
   "cell_type": "markdown",
   "id": "8a8dbe70",
   "metadata": {},
   "source": [
    "# code\n",
    "### indexage"
   ]
  },
  {
   "cell_type": "code",
   "execution_count": 35,
   "id": "6a1c75a2",
   "metadata": {},
   "outputs": [
    {
     "name": "stdout",
     "output_type": "stream",
     "text": [
      "['workclass_indexed', 'education_indexed', 'marital-status_indexed', 'occupation_indexed', 'relationship_indexed', 'race_indexed', 'gender_indexed', 'native-country_indexed']\n",
      "['workclass_indexed_encoded', 'education_indexed_encoded', 'marital-status_indexed_encoded', 'occupation_indexed_encoded', 'relationship_indexed_encoded', 'race_indexed_encoded', 'gender_indexed_encoded', 'native-country_indexed_encoded']\n"
     ]
    }
   ],
   "source": [
    "df.describe()  # par défaut seulement les col numériques \n",
    "df.describe(include=['O']) # ça ne marche pas (comme ds le vrai Pandas) \n",
    "df_dtypes = df.dtypes\n",
    "cols_cat = df_dtypes[df_dtypes == 'object'].index \n",
    "# cols_cat = ['job', 'marital','education','default','housing', 'loan', 'contact','month','poutcome','Target']\n",
    "df[cols_cat].describe()\n",
    "\n",
    "sdf.columns\n",
    "labelCol = 'income'\n",
    "\n",
    "feature_numeric = ['age', 'fnlwgt', 'educational-num','capital-gain','capital-loss','hours-per-week']\n",
    "\n",
    "feature_cat = ['workclass', 'education', 'marital-status','occupation', 'relationship','race', 'gender', 'native-country']\n",
    "feature_cat_indexed = [col+'_indexed' for col in feature_cat]\n",
    "\n",
    "feature_cat_encoded = [col +'_encoded' for col in feature_cat_indexed]\n",
    "feature_cat_encoded\n",
    "\n",
    "print(feature_cat_indexed)\n",
    "    \n",
    "print(feature_cat_encoded)"
   ]
  },
  {
   "cell_type": "markdown",
   "id": "c9de4be4",
   "metadata": {},
   "source": [
    "### string indexer"
   ]
  },
  {
   "cell_type": "code",
   "execution_count": 36,
   "id": "006ea13b",
   "metadata": {},
   "outputs": [
    {
     "name": "stdout",
     "output_type": "stream",
     "text": [
      "-RECORD 0-----------------------------------\n",
      " age                    | 25                \n",
      " workclass              | Private           \n",
      " fnlwgt                 | 226802            \n",
      " education              | 11th              \n",
      " educational-num        | 7                 \n",
      " marital-status         | Never-married     \n",
      " occupation             | Machine-op-inspct \n",
      " relationship           | Own-child         \n",
      " race                   | Black             \n",
      " gender                 | Male              \n",
      " capital-gain           | 0                 \n",
      " capital-loss           | 0                 \n",
      " hours-per-week         | 40                \n",
      " native-country         | United-States     \n",
      " income                 | <=50K             \n",
      " workclass_indexed      | 0.0               \n",
      " education_indexed      | 5.0               \n",
      " marital-status_indexed | 1.0               \n",
      " occupation_indexed     | 6.0               \n",
      " relationship_indexed   | 2.0               \n",
      " race_indexed           | 1.0               \n",
      " gender_indexed         | 0.0               \n",
      " native-country_indexed | 0.0               \n",
      "only showing top 1 row\n",
      "\n"
     ]
    }
   ],
   "source": [
    "indexer_feature = StringIndexer(inputCols=feature_cat, handleInvalid='skip', outputCols=feature_cat_indexed)\n",
    "indexer_label = StringIndexer(inputCol=labelCol, handleInvalid='skip', outputCol=labelCol+'_indexed')\n",
    "\n",
    "sdf = indexer_feature.fit(sdf).transform(sdf)\n",
    "sdf.show(n=1, truncate=False, vertical=True)"
   ]
  },
  {
   "cell_type": "markdown",
   "id": "a13b0bb7",
   "metadata": {},
   "source": [
    "### encoders"
   ]
  },
  {
   "cell_type": "code",
   "execution_count": 37,
   "id": "184e0dee",
   "metadata": {},
   "outputs": [
    {
     "name": "stdout",
     "output_type": "stream",
     "text": [
      "-RECORD 0-----------------------------------------\n",
      " workclass_indexed              | 0.0             \n",
      " education_indexed              | 5.0             \n",
      " marital-status_indexed         | 1.0             \n",
      " occupation_indexed             | 6.0             \n",
      " relationship_indexed           | 2.0             \n",
      " race_indexed                   | 1.0             \n",
      " gender_indexed                 | 0.0             \n",
      " native-country_indexed         | 0.0             \n",
      " workclass_indexed_encoded      | (9,[0],[1.0])   \n",
      " education_indexed_encoded      | (16,[5],[1.0])  \n",
      " marital-status_indexed_encoded | (7,[1],[1.0])   \n",
      " occupation_indexed_encoded     | (15,[6],[1.0])  \n",
      " relationship_indexed_encoded   | (6,[2],[1.0])   \n",
      " race_indexed_encoded           | (5,[1],[1.0])   \n",
      " gender_indexed_encoded         | (2,[0],[1.0])   \n",
      " native-country_indexed_encoded | (42,[0],[1.0])  \n",
      "-RECORD 1-----------------------------------------\n",
      " workclass_indexed              | 0.0             \n",
      " education_indexed              | 0.0             \n",
      " marital-status_indexed         | 0.0             \n",
      " occupation_indexed             | 10.0            \n",
      " relationship_indexed           | 0.0             \n",
      " race_indexed                   | 0.0             \n",
      " gender_indexed                 | 0.0             \n",
      " native-country_indexed         | 0.0             \n",
      " workclass_indexed_encoded      | (9,[0],[1.0])   \n",
      " education_indexed_encoded      | (16,[0],[1.0])  \n",
      " marital-status_indexed_encoded | (7,[0],[1.0])   \n",
      " occupation_indexed_encoded     | (15,[10],[1.0]) \n",
      " relationship_indexed_encoded   | (6,[0],[1.0])   \n",
      " race_indexed_encoded           | (5,[0],[1.0])   \n",
      " gender_indexed_encoded         | (2,[0],[1.0])   \n",
      " native-country_indexed_encoded | (42,[0],[1.0])  \n",
      "only showing top 2 rows\n",
      "\n"
     ]
    }
   ],
   "source": [
    "encoders = OneHotEncoder(dropLast=False, inputCols=feature_cat_indexed, outputCols=feature_cat_encoded)  \n",
    "sdf = encoders.fit(sdf).transform(sdf)\n",
    "sdf.select(feature_cat_indexed+feature_cat_encoded).show(n=2, truncate=False, vertical=True)"
   ]
  },
  {
   "cell_type": "markdown",
   "id": "f4a9d42f",
   "metadata": {},
   "source": [
    "### vector assembler"
   ]
  },
  {
   "cell_type": "code",
   "execution_count": 38,
   "id": "b1816e32",
   "metadata": {},
   "outputs": [
    {
     "name": "stderr",
     "output_type": "stream",
     "text": [
      "22/10/06 09:57:27 WARN CacheManager: Asked to cache already cached data.\n"
     ]
    }
   ],
   "source": [
    "sdf = spark.read.csv(income_adult, header=True, inferSchema=True).cache()\n",
    "assembler = VectorAssembler(inputCols=feature_cat_encoded+feature_numeric, outputCol='features')\n"
   ]
  },
  {
   "cell_type": "markdown",
   "id": "e01639e3",
   "metadata": {},
   "source": [
    "### pipeline"
   ]
  },
  {
   "cell_type": "code",
   "execution_count": 39,
   "id": "3acf63b1",
   "metadata": {},
   "outputs": [
    {
     "name": "stderr",
     "output_type": "stream",
     "text": [
      "22/10/06 09:57:28 WARN package: Truncated the string representation of a plan since it was too large. This behavior can be adjusted by setting 'spark.sql.debug.maxToStringFields'.\n"
     ]
    },
    {
     "name": "stdout",
     "output_type": "stream",
     "text": [
      "-RECORD 0---------------------------------------------------------------------------------------------------------------------------------\n",
      " age                            | 25                                                                                                      \n",
      " workclass                      | Private                                                                                                 \n",
      " fnlwgt                         | 226802                                                                                                  \n",
      " education                      | 11th                                                                                                    \n",
      " educational-num                | 7                                                                                                       \n",
      " marital-status                 | Never-married                                                                                           \n",
      " occupation                     | Machine-op-inspct                                                                                       \n",
      " relationship                   | Own-child                                                                                               \n",
      " race                           | Black                                                                                                   \n",
      " gender                         | Male                                                                                                    \n",
      " capital-gain                   | 0                                                                                                       \n",
      " capital-loss                   | 0                                                                                                       \n",
      " hours-per-week                 | 40                                                                                                      \n",
      " native-country                 | United-States                                                                                           \n",
      " income                         | <=50K                                                                                                   \n",
      " workclass_indexed              | 0.0                                                                                                     \n",
      " education_indexed              | 5.0                                                                                                     \n",
      " marital-status_indexed         | 1.0                                                                                                     \n",
      " occupation_indexed             | 6.0                                                                                                     \n",
      " relationship_indexed           | 2.0                                                                                                     \n",
      " race_indexed                   | 1.0                                                                                                     \n",
      " gender_indexed                 | 0.0                                                                                                     \n",
      " native-country_indexed         | 0.0                                                                                                     \n",
      " income_indexed                 | 0.0                                                                                                     \n",
      " workclass_indexed_encoded      | (9,[0],[1.0])                                                                                           \n",
      " education_indexed_encoded      | (16,[5],[1.0])                                                                                          \n",
      " marital-status_indexed_encoded | (7,[1],[1.0])                                                                                           \n",
      " occupation_indexed_encoded     | (15,[6],[1.0])                                                                                          \n",
      " relationship_indexed_encoded   | (6,[2],[1.0])                                                                                           \n",
      " race_indexed_encoded           | (5,[1],[1.0])                                                                                           \n",
      " gender_indexed_encoded         | (2,[0],[1.0])                                                                                           \n",
      " native-country_indexed_encoded | (42,[0],[1.0])                                                                                          \n",
      " features                       | (108,[0,14,26,38,49,54,58,60,102,103,104,107],[1.0,1.0,1.0,1.0,1.0,1.0,1.0,1.0,25.0,226802.0,7.0,40.0]) \n",
      "only showing top 1 row\n",
      "\n"
     ]
    }
   ],
   "source": [
    "Pipeline(stages= [indexer_feature]+[indexer_label]+[encoders]+[assembler]).fit(sdf).transform(sdf).show(n=1, truncate=False, vertical=True)"
   ]
  },
  {
   "cell_type": "markdown",
   "id": "50aa1f01",
   "metadata": {},
   "source": [
    "### séparation des données test / train"
   ]
  },
  {
   "cell_type": "code",
   "execution_count": 42,
   "id": "20851494",
   "metadata": {},
   "outputs": [
    {
     "name": "stdout",
     "output_type": "stream",
     "text": [
      "-RECORD 0------------------------\n",
      " age             | 17            \n",
      " workclass       | ?             \n",
      " fnlwgt          | 27251         \n",
      " education       | 11th          \n",
      " educational-num | 7             \n",
      " marital-status  | Widowed       \n",
      " occupation      | ?             \n",
      " relationship    | Own-child     \n",
      " race            | White         \n",
      " gender          | Male          \n",
      " capital-gain    | 0             \n",
      " capital-loss    | 0             \n",
      " hours-per-week  | 40            \n",
      " native-country  | United-States \n",
      " income          | <=50K         \n",
      "only showing top 1 row\n",
      "\n",
      "-RECORD 0------------------------\n",
      " age             | 17            \n",
      " workclass       | ?             \n",
      " fnlwgt          | 44789         \n",
      " education       | Some-college  \n",
      " educational-num | 10            \n",
      " marital-status  | Never-married \n",
      " occupation      | ?             \n",
      " relationship    | Own-child     \n",
      " race            | White         \n",
      " gender          | Male          \n",
      " capital-gain    | 0             \n",
      " capital-loss    | 0             \n",
      " hours-per-week  | 15            \n",
      " native-country  | United-States \n",
      " income          | <=50K         \n",
      "only showing top 1 row\n",
      "\n"
     ]
    }
   ],
   "source": [
    "train, test = sdf.randomSplit([0.7, 0.3],seed = 11)\n",
    "train.show(n=1, truncate=False, vertical=True)\n",
    "test.show(n=1, truncate=False, vertical=True)"
   ]
  },
  {
   "cell_type": "markdown",
   "id": "a7bb06a0",
   "metadata": {},
   "source": [
    "# LOGISTIC REGRESSION ALGORITHM"
   ]
  },
  {
   "cell_type": "code",
   "execution_count": 43,
   "id": "6e8b45b8",
   "metadata": {},
   "outputs": [
    {
     "name": "stderr",
     "output_type": "stream",
     "text": [
      "22/10/06 12:10:24 WARN CacheManager: Asked to cache already cached data.\n",
      "22/10/06 12:10:24 WARN CacheManager: Asked to cache already cached data.\n",
      "22/10/06 12:10:24 WARN CacheManager: Asked to cache already cached data.\n"
     ]
    },
    {
     "data": {
      "text/plain": [
       "(DataFrame[age: int, workclass: string, fnlwgt: int, education: string, educational-num: int, marital-status: string, occupation: string, relationship: string, race: string, gender: string, capital-gain: int, capital-loss: int, hours-per-week: int, native-country: string, income: string],\n",
       " DataFrame[age: int, workclass: string, fnlwgt: int, education: string, educational-num: int, marital-status: string, occupation: string, relationship: string, race: string, gender: string, capital-gain: int, capital-loss: int, hours-per-week: int, native-country: string, income: string])"
      ]
     },
     "execution_count": 43,
     "metadata": {},
     "output_type": "execute_result"
    }
   ],
   "source": [
    "lr = LogisticRegression(labelCol='income_indexed', featuresCol='features')\n",
    "\n",
    "train, test = spark.read.csv(income_adult, header=True, inferSchema=True) \\\n",
    "     .cache() \\\n",
    "     .randomSplit([0.7, 0.3], seed = 5)\n",
    "\n",
    "train.cache(), test.cache()"
   ]
  },
  {
   "cell_type": "code",
   "execution_count": 45,
   "id": "7aeac287",
   "metadata": {},
   "outputs": [
    {
     "name": "stdout",
     "output_type": "stream",
     "text": [
      "+----------+--------------+--------------------+\n",
      "|prediction|income_indexed|            features|\n",
      "+----------+--------------+--------------------+\n",
      "|       0.0|           0.0|(108,[3,14,26,39,...|\n",
      "|       0.0|           0.0|(108,[3,9,26,39,4...|\n",
      "|       0.0|           0.0|(108,[3,16,26,39,...|\n",
      "|       0.0|           0.0|(108,[3,10,26,39,...|\n",
      "|       0.0|           0.0|(108,[3,14,26,39,...|\n",
      "|       0.0|           0.0|(108,[3,16,26,39,...|\n",
      "|       0.0|           0.0|(108,[3,16,26,39,...|\n",
      "|       0.0|           0.0|(108,[3,14,26,39,...|\n",
      "|       0.0|           0.0|(108,[3,16,26,39,...|\n",
      "|       0.0|           0.0|(108,[3,16,26,39,...|\n",
      "|       0.0|           0.0|(108,[3,16,26,39,...|\n",
      "|       0.0|           0.0|(108,[3,20,26,39,...|\n",
      "|       0.0|           0.0|(108,[3,14,26,39,...|\n",
      "|       0.0|           0.0|(108,[3,16,26,39,...|\n",
      "|       0.0|           0.0|(108,[3,14,26,39,...|\n",
      "|       0.0|           0.0|(108,[3,20,26,39,...|\n",
      "|       0.0|           0.0|(108,[3,14,26,39,...|\n",
      "|       0.0|           0.0|(108,[3,16,26,39,...|\n",
      "|       1.0|           0.0|(108,[3,16,26,39,...|\n",
      "|       0.0|           0.0|(108,[3,16,26,39,...|\n",
      "+----------+--------------+--------------------+\n",
      "only showing top 20 rows\n",
      "\n",
      "-RECORD 0--------------------------------------------------------------------------------------------------------------------------------\n",
      " age                            | 17                                                                                                     \n",
      " workclass                      | ?                                                                                                      \n",
      " fnlwgt                         | 34505                                                                                                  \n",
      " education                      | 11th                                                                                                   \n",
      " educational-num                | 7                                                                                                      \n",
      " marital-status                 | Never-married                                                                                          \n",
      " occupation                     | ?                                                                                                      \n",
      " relationship                   | Own-child                                                                                              \n",
      " race                           | White                                                                                                  \n",
      " gender                         | Male                                                                                                   \n",
      " capital-gain                   | 0                                                                                                      \n",
      " capital-loss                   | 0                                                                                                      \n",
      " hours-per-week                 | 50                                                                                                     \n",
      " native-country                 | United-States                                                                                          \n",
      " income                         | <=50K                                                                                                  \n",
      " workclass_indexed              | 3.0                                                                                                    \n",
      " education_indexed              | 5.0                                                                                                    \n",
      " marital-status_indexed         | 1.0                                                                                                    \n",
      " occupation_indexed             | 7.0                                                                                                    \n",
      " relationship_indexed           | 2.0                                                                                                    \n",
      " race_indexed                   | 0.0                                                                                                    \n",
      " gender_indexed                 | 0.0                                                                                                    \n",
      " native-country_indexed         | 0.0                                                                                                    \n",
      " income_indexed                 | 0.0                                                                                                    \n",
      " workclass_indexed_encoded      | (9,[3],[1.0])                                                                                          \n",
      " education_indexed_encoded      | (16,[5],[1.0])                                                                                         \n",
      " marital-status_indexed_encoded | (7,[1],[1.0])                                                                                          \n",
      " occupation_indexed_encoded     | (15,[7],[1.0])                                                                                         \n",
      " relationship_indexed_encoded   | (6,[2],[1.0])                                                                                          \n",
      " race_indexed_encoded           | (5,[0],[1.0])                                                                                          \n",
      " gender_indexed_encoded         | (2,[0],[1.0])                                                                                          \n",
      " native-country_indexed_encoded | (42,[0],[1.0])                                                                                         \n",
      " features                       | (108,[3,14,26,39,49,53,58,60,102,103,104,107],[1.0,1.0,1.0,1.0,1.0,1.0,1.0,1.0,17.0,34505.0,7.0,50.0]) \n",
      " rawPrediction                  | [6.223351732928506,-6.223351732928506]                                                                 \n",
      " probability                    | [0.9980213339217242,0.0019786660782757926]                                                             \n",
      " prediction                     | 0.0                                                                                                    \n",
      "only showing top 1 row\n",
      "\n"
     ]
    }
   ],
   "source": [
    "model = Pipeline(stages= [indexer_feature]+[indexer_label]+[encoders]+[assembler]+[lr]).fit(train)\n",
    "pred_lr = model.transform(test)\n",
    "pred_lr.select('prediction', 'income_indexed', 'features').show()"
   ]
  },
  {
   "cell_type": "markdown",
   "id": "b7e36e28",
   "metadata": {},
   "source": [
    "### sélection des colonnes de prédiction"
   ]
  },
  {
   "cell_type": "code",
   "execution_count": 52,
   "id": "db9b063a",
   "metadata": {},
   "outputs": [
    {
     "name": "stderr",
     "output_type": "stream",
     "text": [
      "                                                                                \r"
     ]
    }
   ],
   "source": [
    "preds_and_labels = pred_lr.select(['prediction','income_indexed']).withColumn('label', F.col('income_indexed').cast(FloatType())).orderBy('prediction')\n",
    "preds_and_labels = preds_and_labels.select(['prediction','label'])"
   ]
  },
  {
   "cell_type": "markdown",
   "id": "582bf240",
   "metadata": {},
   "source": [
    "### Affichage de la matrice de confusion + précision"
   ]
  },
  {
   "cell_type": "code",
   "execution_count": 55,
   "id": "e36395dc",
   "metadata": {},
   "outputs": [
    {
     "name": "stdout",
     "output_type": "stream",
     "text": [
      "[[10368.   742.]\n",
      " [ 1434.  2125.]]\n"
     ]
    }
   ],
   "source": [
    "metrics = MulticlassMetrics(preds_and_labels.rdd.map(tuple))\n",
    "print(metrics.confusionMatrix().toArray())"
   ]
  },
  {
   "cell_type": "code",
   "execution_count": 56,
   "id": "edb11bad",
   "metadata": {},
   "outputs": [
    {
     "data": {
      "text/plain": [
       "0.8516599631876747"
      ]
     },
     "execution_count": 56,
     "metadata": {},
     "output_type": "execute_result"
    }
   ],
   "source": [
    "metrics.accuracy"
   ]
  },
  {
   "cell_type": "markdown",
   "id": "a0434e32",
   "metadata": {},
   "source": [
    "# DECISION TREE ALGORITHM"
   ]
  },
  {
   "cell_type": "code",
   "execution_count": 59,
   "id": "e1fd4297",
   "metadata": {},
   "outputs": [
    {
     "name": "stdout",
     "output_type": "stream",
     "text": [
      "+----------+--------------+--------------------+\n",
      "|prediction|income_indexed|            features|\n",
      "+----------+--------------+--------------------+\n",
      "|       0.0|           0.0|(108,[3,14,26,39,...|\n",
      "|       0.0|           0.0|(108,[3,9,26,39,4...|\n",
      "|       0.0|           0.0|(108,[3,16,26,39,...|\n",
      "|       0.0|           0.0|(108,[3,10,26,39,...|\n",
      "|       0.0|           0.0|(108,[3,14,26,39,...|\n",
      "|       0.0|           0.0|(108,[3,16,26,39,...|\n",
      "|       0.0|           0.0|(108,[3,16,26,39,...|\n",
      "|       0.0|           0.0|(108,[3,14,26,39,...|\n",
      "|       0.0|           0.0|(108,[3,16,26,39,...|\n",
      "|       0.0|           0.0|(108,[3,16,26,39,...|\n",
      "|       0.0|           0.0|(108,[3,16,26,39,...|\n",
      "|       0.0|           0.0|(108,[3,20,26,39,...|\n",
      "|       0.0|           0.0|(108,[3,14,26,39,...|\n",
      "|       0.0|           0.0|(108,[3,16,26,39,...|\n",
      "|       0.0|           0.0|(108,[3,14,26,39,...|\n",
      "|       0.0|           0.0|(108,[3,20,26,39,...|\n",
      "|       0.0|           0.0|(108,[3,14,26,39,...|\n",
      "|       0.0|           0.0|(108,[3,16,26,39,...|\n",
      "|       0.0|           0.0|(108,[3,16,26,39,...|\n",
      "|       0.0|           0.0|(108,[3,16,26,39,...|\n",
      "+----------+--------------+--------------------+\n",
      "only showing top 20 rows\n",
      "\n"
     ]
    }
   ],
   "source": [
    "evaluator = MulticlassClassificationEvaluator(labelCol='income_indexed', predictionCol='prediction', metricName='accuracy')\n",
    "tree = DecisionTreeClassifier(labelCol='income_indexed', featuresCol='features')\n",
    "\n",
    "model = Pipeline(stages= [indexer_feature]+[indexer_label]+[encoders]+[assembler]+[tree]).fit(train)\n",
    "pred_tree = model.transform(test)\n",
    "pred_tree.select('prediction', 'income_indexed', 'features').show()"
   ]
  },
  {
   "cell_type": "markdown",
   "id": "aec46a8b",
   "metadata": {},
   "source": [
    "### Matrice de confuion + précision"
   ]
  },
  {
   "cell_type": "code",
   "execution_count": 60,
   "id": "d0d6a46f",
   "metadata": {},
   "outputs": [
    {
     "name": "stdout",
     "output_type": "stream",
     "text": [
      "[[10457.   653.]\n",
      " [ 1676.  1883.]]\n"
     ]
    }
   ],
   "source": [
    "preds_and_labels = pred_tree.select(['prediction','income_indexed']).withColumn('label', F.col('income_indexed').cast(FloatType())).orderBy('prediction')\n",
    "preds_and_labels = preds_and_labels.select(['prediction','label'])\n",
    "metrics = MulticlassMetrics(preds_and_labels.rdd.map(tuple))\n",
    "print(metrics.confusionMatrix().toArray())"
   ]
  },
  {
   "cell_type": "code",
   "execution_count": 61,
   "id": "bc5da17a",
   "metadata": {},
   "outputs": [
    {
     "name": "stdout",
     "output_type": "stream",
     "text": [
      "Précision = 0.84123\n",
      "Taux d'erreur = 0.15877 \n"
     ]
    }
   ],
   "source": [
    "accuracy_tree = evaluator.evaluate(pred_tree)\n",
    "print(\"Précision = %g\"% (accuracy_tree))\n",
    "print(\"Taux d'erreur = %g \" % (1.0 - accuracy_tree))"
   ]
  },
  {
   "cell_type": "markdown",
   "id": "460a4858",
   "metadata": {},
   "source": [
    "# NATIVE BAYS ALGORITHM\n",
    "\n",
    "#### Toutes les features sont indépendantes\n",
    "#### Naive Bayes repose sur un calcul de proba\n",
    "#### Il va calculer la proba qu'une prédiction soit vraie la proba qu'elle soit fausse\n",
    "#### En comparant les 2 résultats on peut déduire à quelle classe appartient la donnée\n"
   ]
  },
  {
   "cell_type": "code",
   "execution_count": 63,
   "id": "82b03ebf",
   "metadata": {},
   "outputs": [
    {
     "name": "stderr",
     "output_type": "stream",
     "text": [
      "\r",
      "[Stage 280:============================>                            (1 + 1) / 2]\r",
      "\r",
      "                                                                                \r"
     ]
    },
    {
     "name": "stdout",
     "output_type": "stream",
     "text": [
      "+----------+--------------+--------------------+\n",
      "|prediction|income_indexed|            features|\n",
      "+----------+--------------+--------------------+\n",
      "|       0.0|           0.0|(108,[3,14,26,39,...|\n",
      "|       0.0|           0.0|(108,[3,9,26,39,4...|\n",
      "|       0.0|           0.0|(108,[3,16,26,39,...|\n",
      "|       0.0|           0.0|(108,[3,10,26,39,...|\n",
      "|       0.0|           0.0|(108,[3,14,26,39,...|\n",
      "|       0.0|           0.0|(108,[3,16,26,39,...|\n",
      "|       0.0|           0.0|(108,[3,16,26,39,...|\n",
      "|       0.0|           0.0|(108,[3,14,26,39,...|\n",
      "|       0.0|           0.0|(108,[3,16,26,39,...|\n",
      "|       0.0|           0.0|(108,[3,16,26,39,...|\n",
      "|       0.0|           0.0|(108,[3,16,26,39,...|\n",
      "|       0.0|           0.0|(108,[3,20,26,39,...|\n",
      "|       0.0|           0.0|(108,[3,14,26,39,...|\n",
      "|       0.0|           0.0|(108,[3,16,26,39,...|\n",
      "|       0.0|           0.0|(108,[3,14,26,39,...|\n",
      "|       0.0|           0.0|(108,[3,20,26,39,...|\n",
      "|       0.0|           0.0|(108,[3,14,26,39,...|\n",
      "|       0.0|           0.0|(108,[3,16,26,39,...|\n",
      "|       1.0|           0.0|(108,[3,16,26,39,...|\n",
      "|       0.0|           0.0|(108,[3,16,26,39,...|\n",
      "+----------+--------------+--------------------+\n",
      "only showing top 20 rows\n",
      "\n"
     ]
    }
   ],
   "source": [
    "nb = NaiveBayes(labelCol=\"income_indexed\", featuresCol=\"features\")\n",
    "nb_model = Pipeline(stages= [indexer_feature]+[indexer_label]+[encoders]+[assembler]+[nb]).fit(train)\n",
    "nb_prediction = nb_model.transform(test)\n",
    "nb_prediction.select(\"prediction\", \"income_indexed\", \"features\").show()"
   ]
  },
  {
   "cell_type": "markdown",
   "id": "9cf53615",
   "metadata": {},
   "source": [
    "### Matrice de confusion + précision"
   ]
  },
  {
   "cell_type": "code",
   "execution_count": 65,
   "id": "1ae21626",
   "metadata": {},
   "outputs": [
    {
     "name": "stdout",
     "output_type": "stream",
     "text": [
      "[[10604.   506.]\n",
      " [ 2732.   827.]]\n"
     ]
    }
   ],
   "source": [
    "preds_and_labels = nb_prediction.select(['prediction','income_indexed']).withColumn('label', F.col('income_indexed').cast(FloatType())).orderBy('prediction')\n",
    "preds_and_labels = preds_and_labels.select(['prediction','label'])\n",
    "metrics = MulticlassMetrics(preds_and_labels.rdd.map(tuple))\n",
    "print(metrics.confusionMatrix().toArray())"
   ]
  },
  {
   "cell_type": "code",
   "execution_count": 66,
   "id": "baf68440",
   "metadata": {},
   "outputs": [
    {
     "name": "stdout",
     "output_type": "stream",
     "text": [
      "Précision = 0.7792623900743063\n"
     ]
    }
   ],
   "source": [
    "\n",
    "nbaccuracy = evaluator.evaluate(nb_prediction) \n",
    "print(\"Précision = \" + str(nbaccuracy))"
   ]
  },
  {
   "cell_type": "markdown",
   "id": "d1614fc1",
   "metadata": {},
   "source": [
    "# SVM ALGORITHM"
   ]
  },
  {
   "cell_type": "code",
   "execution_count": 73,
   "id": "e9a18574",
   "metadata": {},
   "outputs": [
    {
     "name": "stdout",
     "output_type": "stream",
     "text": [
      "+----------+--------------+--------------------+\n",
      "|prediction|income_indexed|            features|\n",
      "+----------+--------------+--------------------+\n",
      "|       0.0|           0.0|(108,[3,14,26,39,...|\n",
      "|       0.0|           0.0|(108,[3,9,26,39,4...|\n",
      "|       0.0|           0.0|(108,[3,16,26,39,...|\n",
      "|       0.0|           0.0|(108,[3,10,26,39,...|\n",
      "|       0.0|           0.0|(108,[3,14,26,39,...|\n",
      "|       0.0|           0.0|(108,[3,16,26,39,...|\n",
      "|       0.0|           0.0|(108,[3,16,26,39,...|\n",
      "|       0.0|           0.0|(108,[3,14,26,39,...|\n",
      "|       0.0|           0.0|(108,[3,16,26,39,...|\n",
      "|       0.0|           0.0|(108,[3,16,26,39,...|\n",
      "|       0.0|           0.0|(108,[3,16,26,39,...|\n",
      "|       0.0|           0.0|(108,[3,20,26,39,...|\n",
      "|       0.0|           0.0|(108,[3,14,26,39,...|\n",
      "|       0.0|           0.0|(108,[3,16,26,39,...|\n",
      "|       0.0|           0.0|(108,[3,14,26,39,...|\n",
      "|       0.0|           0.0|(108,[3,20,26,39,...|\n",
      "|       0.0|           0.0|(108,[3,14,26,39,...|\n",
      "|       0.0|           0.0|(108,[3,16,26,39,...|\n",
      "|       1.0|           0.0|(108,[3,16,26,39,...|\n",
      "|       0.0|           0.0|(108,[3,16,26,39,...|\n",
      "+----------+--------------+--------------------+\n",
      "only showing top 20 rows\n",
      "\n"
     ]
    }
   ],
   "source": [
    "svm = LinearSVC(labelCol=\"income_indexed\", featuresCol=\"features\")\n",
    "svm_model = Pipeline(stages= [indexer_feature]+[indexer_label]+[encoders]+[assembler]+[svm]).fit(train)\n",
    "svm_prediction = svm_model.transform(test)\n",
    "svm_prediction.select(\"prediction\", \"income_indexed\", \"features\").show()"
   ]
  },
  {
   "cell_type": "markdown",
   "id": "e64351c1",
   "metadata": {},
   "source": [
    "### Matrice de confusion + précision"
   ]
  },
  {
   "cell_type": "code",
   "execution_count": 74,
   "id": "5a1f0c77",
   "metadata": {},
   "outputs": [
    {
     "name": "stdout",
     "output_type": "stream",
     "text": [
      "[[10424.   686.]\n",
      " [ 1510.  2049.]]\n"
     ]
    }
   ],
   "source": [
    "preds_and_labels = svm_prediction.select(['prediction','income_indexed']).withColumn('label', F.col('income_indexed').cast(FloatType())).orderBy('prediction')\n",
    "preds_and_labels = preds_and_labels.select(['prediction','label'])\n",
    "metrics = MulticlassMetrics(preds_and_labels.rdd.map(tuple))\n",
    "print(metrics.confusionMatrix().toArray())"
   ]
  },
  {
   "cell_type": "code",
   "execution_count": 80,
   "id": "b866da87",
   "metadata": {},
   "outputs": [
    {
     "name": "stdout",
     "output_type": "stream",
     "text": [
      "Test accuracy = 0.8502965437316791\n"
     ]
    }
   ],
   "source": [
    "svm_accuracy = evaluator.evaluate(svm_prediction)\n",
    "print(\"Test accuracy = \" + str(svm_accuracy)) "
   ]
  },
  {
   "cell_type": "markdown",
   "id": "04eff11f",
   "metadata": {},
   "source": [
    "# Gradient Boosted Tree ALGORITHM"
   ]
  },
  {
   "cell_type": "code",
   "execution_count": 78,
   "id": "3c3001a4",
   "metadata": {},
   "outputs": [
    {
     "name": "stdout",
     "output_type": "stream",
     "text": [
      "+----------+--------------+--------------------+\n",
      "|prediction|income_indexed|            features|\n",
      "+----------+--------------+--------------------+\n",
      "|       0.0|           0.0|(108,[3,14,26,39,...|\n",
      "|       0.0|           0.0|(108,[3,9,26,39,4...|\n",
      "|       0.0|           0.0|(108,[3,16,26,39,...|\n",
      "|       0.0|           0.0|(108,[3,10,26,39,...|\n",
      "|       0.0|           0.0|(108,[3,14,26,39,...|\n",
      "|       0.0|           0.0|(108,[3,16,26,39,...|\n",
      "|       0.0|           0.0|(108,[3,16,26,39,...|\n",
      "|       0.0|           0.0|(108,[3,14,26,39,...|\n",
      "|       0.0|           0.0|(108,[3,16,26,39,...|\n",
      "|       0.0|           0.0|(108,[3,16,26,39,...|\n",
      "|       0.0|           0.0|(108,[3,16,26,39,...|\n",
      "|       0.0|           0.0|(108,[3,20,26,39,...|\n",
      "|       0.0|           0.0|(108,[3,14,26,39,...|\n",
      "|       0.0|           0.0|(108,[3,16,26,39,...|\n",
      "|       0.0|           0.0|(108,[3,14,26,39,...|\n",
      "|       0.0|           0.0|(108,[3,20,26,39,...|\n",
      "|       0.0|           0.0|(108,[3,14,26,39,...|\n",
      "|       0.0|           0.0|(108,[3,16,26,39,...|\n",
      "|       0.0|           0.0|(108,[3,16,26,39,...|\n",
      "|       0.0|           0.0|(108,[3,16,26,39,...|\n",
      "+----------+--------------+--------------------+\n",
      "only showing top 20 rows\n",
      "\n"
     ]
    }
   ],
   "source": [
    "gbt = GBTClassifier(labelCol=\"income_indexed\", featuresCol=\"features\",maxIter=10)\n",
    "gbt_model = Pipeline(stages= [indexer_feature]+[indexer_label]+[encoders]+[assembler]+[gbt]).fit(train)\n",
    "gbt_prediction = gbt_model.transform(test)\n",
    "gbt_prediction.select(\"prediction\", \"income_indexed\", \"features\").show()"
   ]
  },
  {
   "cell_type": "markdown",
   "id": "e33278f6",
   "metadata": {},
   "source": [
    "### Matrice de confusion + précision"
   ]
  },
  {
   "cell_type": "code",
   "execution_count": 77,
   "id": "d63c1caa",
   "metadata": {},
   "outputs": [
    {
     "name": "stderr",
     "output_type": "stream",
     "text": [
      "22/10/06 12:56:04 WARN InstanceBuilder$NativeBLAS: Failed to load implementation from:dev.ludovic.netlib.blas.JNIBLAS\n",
      "22/10/06 12:56:04 WARN InstanceBuilder$NativeBLAS: Failed to load implementation from:dev.ludovic.netlib.blas.ForeignLinkerBLAS\n"
     ]
    },
    {
     "name": "stdout",
     "output_type": "stream",
     "text": [
      "[[10512.   598.]\n",
      " [ 1585.  1974.]]\n"
     ]
    }
   ],
   "source": [
    "preds_and_labels = gbt_prediction.select(['prediction','income_indexed']).withColumn('label', F.col('income_indexed').cast(FloatType())).orderBy('prediction')\n",
    "preds_and_labels = preds_and_labels.select(['prediction','label'])\n",
    "metrics = MulticlassMetrics(preds_and_labels.rdd.map(tuple))\n",
    "print(metrics.confusionMatrix().toArray())"
   ]
  },
  {
   "cell_type": "code",
   "execution_count": 81,
   "id": "4f4cd661",
   "metadata": {},
   "outputs": [
    {
     "name": "stdout",
     "output_type": "stream",
     "text": [
      "Test accuracy = 0.8511827663780762\n"
     ]
    }
   ],
   "source": [
    "gbt_accuracy = evaluator.evaluate(gbt_prediction)\n",
    "print(\"Test accuracy = \" + str(gbt_accuracy))"
   ]
  },
  {
   "cell_type": "code",
   "execution_count": null,
   "id": "dc863261",
   "metadata": {},
   "outputs": [],
   "source": []
  }
 ],
 "metadata": {
  "kernelspec": {
   "display_name": "Python 3 (ipykernel)",
   "language": "python",
   "name": "python3"
  },
  "language_info": {
   "codemirror_mode": {
    "name": "ipython",
    "version": 3
   },
   "file_extension": ".py",
   "mimetype": "text/x-python",
   "name": "python",
   "nbconvert_exporter": "python",
   "pygments_lexer": "ipython3",
   "version": "3.9.7"
  }
 },
 "nbformat": 4,
 "nbformat_minor": 5
}
